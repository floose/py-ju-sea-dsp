{
 "cells": [
  {
   "cell_type": "code",
   "execution_count": 1,
   "metadata": {},
   "outputs": [],
   "source": [
    "import matplotlib.pyplot as plt #for plotting\n",
    "from matplotlib.ticker import EngFormatter #Formater of Engineering notation string\n",
    "import matplotlib.ticker as mtick  #To draw vertical lines to plots\n",
    "import numpy as np #numpy\n",
    "from quantiphy import Quantity as qt#to format numbers \n",
    "#To add the toolbar to plots"
   ]
  },
  {
   "attachments": {},
   "cell_type": "markdown",
   "metadata": {},
   "source": [
    "## Introduction"
   ]
  },
  {
   "attachments": {},
   "cell_type": "markdown",
   "metadata": {},
   "source": [
    "* This notebook aims to exercise the block diagram of the OFDM technique for a given number of carriers to be transmitted over a channel;\n",
    "* Initially, the modulation chosen will be BPSK for each carrier. In the future, QAM will also be applied;\n",
    "* The application will map and input char word and will codify it into OFDM in terms of ASCII;\n",
    "* The particular aspects of the D/A converter will be covered."
   ]
  },
  {
   "attachments": {},
   "cell_type": "markdown",
   "metadata": {},
   "source": [
    "## System setup"
   ]
  },
  {
   "attachments": {},
   "cell_type": "markdown",
   "metadata": {},
   "source": [
    "The block diagram below describes the way one apply OFDM into a communication system:"
   ]
  },
  {
   "attachments": {},
   "cell_type": "markdown",
   "metadata": {},
   "source": [
    "<img src=\"OFDM_block_diagram.png\" width=\"400\" height=\"300\" />"
   ]
  },
  {
   "attachments": {},
   "cell_type": "markdown",
   "metadata": {},
   "source": [
    "Sources: \n",
    "\n",
    "[NTU Singapore (Prof. Hsin-Mu Tsai slides)](https://www.csie.ntu.edu.tw/~hsinmu/courses/_media/wn_11fall/ofdm_new.pdf)\n",
    "\n",
    "[Link to Prof Tsai's other courses](https://www.csie.ntu.edu.tw/~hsinmu/courses/)\n",
    "\n",
    "[Prof. Tsai Lectures on Wireless Networking (2011)](https://www.csie.ntu.edu.tw/~hsinmu/courses/wn_11fall)"
   ]
  },
  {
   "attachments": {},
   "cell_type": "markdown",
   "metadata": {},
   "source": [
    "### Description\n",
    "\n",
    "From the input data up to the D/A converter, everything is computed digitally in the transmitter, by using a digital signal processor or a microcontroller unit. Data is formatted into an OFDM symbol through an IFFT algorithm. The process is described as follows. \n",
    "\n",
    "The modulator selects the symbols out of a constellation to represent the input data. A Serial to Parallell converter delivers the symbols into an IFFT algorithm, that transforms the amplitudes and phases of the carriers into a time-domain signal. The signal is then formatted with a well-defined pulse (e.g., a raised-cosine pulse) that is bandlimited.\n"
   ]
  },
  {
   "attachments": {},
   "cell_type": "markdown",
   "metadata": {},
   "source": [
    "### A note on the D/A Converter"
   ]
  },
  {
   "attachments": {},
   "cell_type": "markdown",
   "metadata": {},
   "source": [
    "It is worth expanding what happens during the D/A conversion. A zero-order-hold (ZOH) D/A converter may be used to perform the conversion. When using a D/A that receives data through SPI communication, it implies into a making the D/A having a higher sampling frequency that can be supported by the OFDM system.\n",
    "\n",
    "**This if it is assumed that the D/A's settling time is lower than the SPI's delay time. But this is a topic for another notebook.**\n",
    "\n",
    "For example, for a 10 bit ZOH D/A converter using SPI to communicate to the MCU responsibile for the OFDM, each symbol would require 10 SPI clock cycles to feed the entire bit word of one single sample of the OFDM signal. \n",
    "\n",
    "Thus,\n",
    "\n",
    "$ T_{s} = 10T_{\\mathrm{SPI}}$,\n",
    "\n",
    "in which $T_{s}$ is the effective sampling frequency seen by the OFDM system. \n",
    "\n",
    "In other words, $T_s$ would be the sampling period of a weighted ZOH output signal, such as the one seen below:"
   ]
  },
  {
   "attachments": {},
   "cell_type": "markdown",
   "metadata": {},
   "source": [
    "<img src=\"ZOH.png\" width=\"400\" height=\"300\" />"
   ]
  },
  {
   "attachments": {},
   "cell_type": "markdown",
   "metadata": {},
   "source": [
    "In conclusion, each change of the ZOH amplitude signal in red above represents a 10 bit word sent by the SPI bus. And $T_s$ represents the update time of the ZOH (its sampling frequency)."
   ]
  },
  {
   "attachments": {},
   "cell_type": "markdown",
   "metadata": {},
   "source": [
    "\n",
    "Moreover, for a SPI bus of $1\\;\\mathrm{\\mu s}$ clock period, it would require **10 $\\mathrm{\\mu s}$ to feed the bitstream corresponding to one digital sample of the OFDM symbol**. For a 32 carriers OFDM, this would imply into a time-domain signal of 32 samples, and a 32 length FFT algorithm. **Meaning, 32 ZOH periods to format one single OFDM pulse.**\n",
    "\n",
    "Therefore, the OFDM symbol period would be of\n",
    "\n",
    "$T_{symbol} = 32T_{s} = 32 \\times 10\\;\\mathrm{\\mu s} = 320\\;\\mathrm{\\mu s}$\n",
    "\n",
    "Furthermore, since the effective sampling period of the system is $10\\;\\mathrm{\\mu s}$ (10 SPI periods), Nyquist tells us that the maximum allowable frequency we can reproduce would be $ 1/(2 \\times T_s)$, or 500 kHz in our case, with a 10 bit resolution.\n",
    "\n",
    "Hence, the last reliable carrier of a bandbase OFDM system would be 500 kHz, with the minimum recovery resolution."
   ]
  },
  {
   "attachments": {},
   "cell_type": "markdown",
   "metadata": {},
   "source": [
    "## Communication parameters\n",
    "\n",
    "Based on the arguments provided below, our OFDM scenario is aligned with the following parameters:\n",
    "\n",
    "* SPI Bus clock of 1 MHz, or 1 $T_{\\mathrm{SPI}} = 1\\;\\mathrm{\\mu s}$;\n",
    "\n",
    "* ZOH resolution of 10 bits, or $2^{10} = 1024$ levels; \n",
    "\n",
    "* ZOH Sampling period of $ T_{s} = 10T_{\\mathrm{SPI}} = 10\\;\\mathrm{\\mu s}$;\n",
    "\n",
    "* Symbol period of 32 samples (**32 carriers**) $T_{symbol} = 32 T_s = 320 \\;\\mathrm{\\mu s}$;\n",
    "\n",
    "* Maximum allowable carrier to be recovered: **500 kHz**;\n",
    "\n",
    "* Desired modulation scheme of each carrier: **Binary phase shift keying (BPSK)**;\n",
    "\n",
    "* Maximum number of bits per symbol: **32 bits** (1 bit for each BPSK carrier);"
   ]
  },
  {
   "attachments": {},
   "cell_type": "markdown",
   "metadata": {},
   "source": [
    "## Modeling the ZOH\n",
    "\n",
    "* In this section we will show how we model the ZOH to effectivelly reproduce the OFDM signals over the channel."
   ]
  },
  {
   "attachments": {},
   "cell_type": "markdown",
   "metadata": {},
   "source": [
    "Interpolation Function: Credits to Jckantor's Github. [Link here](https://jckantor.github.io/CBE30338/08.01-Zero-Order-Hold-and-Interpolation.html)"
   ]
  },
  {
   "cell_type": "code",
   "execution_count": 2,
   "metadata": {},
   "outputs": [],
   "source": [
    "def interp0(x, xp, yp):\n",
    "    \"\"\"Zeroth order hold interpolation w/ same\n",
    "    (base)   signature  as numpy.interp.\"\"\"\n",
    "\n",
    "    def func(x0):\n",
    "        if x0 <= xp[0]:\n",
    "            return yp[0]\n",
    "        if x0 >= xp[-1]:\n",
    "            return yp[-1]\n",
    "        k = 0\n",
    "        while x0 > xp[k]:\n",
    "            k += 1\n",
    "        return yp[k-1]\n",
    "    \n",
    "    if isinstance(x,float):\n",
    "        return func(x)\n",
    "    elif isinstance(x, list):\n",
    "        return [func(x) for x in x]\n",
    "    elif isinstance(x, np.ndarray):\n",
    "        return np.asarray([func(x) for x in x])\n",
    "    else:\n",
    "        raise TypeError('argument must be float, list, or ndarray')"
   ]
  },
  {
   "cell_type": "code",
   "execution_count": 3,
   "metadata": {},
   "outputs": [
    {
     "data": {
      "text/plain": [
       "<matplotlib.legend.Legend at 0x1d692d29970>"
      ]
     },
     "execution_count": 3,
     "metadata": {},
     "output_type": "execute_result"
    },
    {
     "data": {
      "image/png": "[encoded data removed]",
      "text/plain": [
       "<Figure size 640x480 with 1 Axes>"
      ]
     },
     "metadata": {},
     "output_type": "display_data"
    }
   ],
   "source": [
    "#demonstration\n",
    "\n",
    "%matplotlib inline\n",
    "\n",
    "# choose a function\n",
    "f = np.sin\n",
    "\n",
    "# sampled signal\n",
    "xp = np.linspace(0,10,20)\n",
    "yp = f(xp)\n",
    "\n",
    "# interpolation grid with 'true' function\n",
    "x = np.linspace(0,12,1000)\n",
    "plt.plot(x,f(x),'--')\n",
    "\n",
    "# plot\n",
    "plt.scatter(xp,yp)\n",
    "plt.plot(x,interp0(x,xp,yp),'r')\n",
    "plt.xlim([x.min(),x.max()])\n",
    "plt.title('Zero Order Hold/Interpolation')\n",
    "plt.xlabel('Time')\n",
    "plt.ylabel('Value')\n",
    "plt.legend(['Signal','ZOH'])"
   ]
  },
  {
   "attachments": {},
   "cell_type": "markdown",
   "metadata": {},
   "source": [
    "Source: [Jckantor's Github](https://jckantor.github.io/CBE30338/08.01-Zero-Order-Hold-and-Interpolation.html)"
   ]
  },
  {
   "attachments": {},
   "cell_type": "markdown",
   "metadata": {},
   "source": [
    "## Communication Parameters\n",
    "\n",
    "* The next code will show some data regarding the communication parameters of our system.\n",
    "* To reason behind several communication parameters, refer to the following picture:"
   ]
  },
  {
   "attachments": {},
   "cell_type": "markdown",
   "metadata": {},
   "source": [
    "<img src=\"nyquist_frequency.png\" width=\"500\" height=\"300\" />"
   ]
  },
  {
   "cell_type": "markdown",
   "metadata": {},
   "source": [
    "Source: [Wikipedia](https://en.wikipedia.org/wiki/Nyquist_frequency)"
   ]
  },
  {
   "attachments": {},
   "cell_type": "markdown",
   "metadata": {},
   "source": [
    "To understand better the relations between data-rate, bandwidth and throughput, watch this [Prof. Iain video](https://www.youtube.com/watch?v=IY6fDYwC2fU&list=PLx7-Q20A1VYIvtMUWX3yd_sQGbQx1qPGP&index=7)"
   ]
  },
  {
   "cell_type": "code",
   "execution_count": 4,
   "metadata": {},
   "outputs": [
    {
     "name": "stdout",
     "output_type": "stream",
     "text": [
      "SPI clock rate:\n",
      "1 us\n",
      "ZOH sampling period:\n",
      "10 us\n",
      "ZOH sampling frequency:\n",
      "100 kHz\n",
      "OFDM symbol period:\n",
      "640 us\n",
      "Number of carriers:\n",
      "32\n",
      "Nyquist frequency:\n",
      "50 kHz\n",
      "Selected OFDM total bandwidth:\n",
      "50 kHz\n",
      "Bandwidth of each carrier:\n",
      "1.5625 kHz\n",
      "Bits per Carrier:\n",
      "1\n",
      "Theoretical Data-rate:\n",
      "40 kbps\n",
      "Carrier frequencies:\n",
      "[0.0, 1612.903225806452, 3225.806451612904, 4838.709677419356, 6451.612903225808, 8064.516129032259, 9677.419354838712, 11290.322580645163, 12903.225806451615, 14516.129032258068, 16129.032258064519, 17741.93548387097, 19354.838709677424, 20967.741935483875, 22580.645161290326, 24193.54838709678, 25806.45161290323, 27419.35483870968, 29032.258064516136, 30645.161290322587, 32258.064516129038, 33870.96774193549, 35483.87096774194, 37096.774193548394, 38709.67741935485, 40322.580645161295, 41935.48387096775, 43548.387096774204, 45161.29032258065, 46774.193548387106, 48387.09677419356, 50000.00000000001]\n"
     ]
    }
   ],
   "source": [
    "#Generating a 32 samples carrier of 320 us\n",
    "#No quantization error employed. Assuming infinite resolution \n",
    "#Generation communication parameters\n",
    "\n",
    "R_spi = 1e6 #spi of 1 megabits per second\n",
    "spi_bits = 10 #resolution of the a/d converter\n",
    "T_spi = 1/R_spi; #spi clock period\n",
    "T_s = spi_bits*T_spi #sampling period of zoh\n",
    "F_s = 1/T_s #sampling frequency\n",
    "\n",
    "#OFDM parameters\n",
    "Ncarriers = 32\n",
    "bits_per_carrier = 1 #1 bit refers to BPSK modulation\n",
    "bits_per_symbol = bits_per_carrier*Ncarriers\n",
    "F_nyquist = F_s/2 #available nyquist frequency\n",
    "B_w = F_nyquist #assuming bandwidth = nyquist limit\n",
    "B_w_carrier = B_w/Ncarriers\n",
    "T_sym = 1/B_w_carrier  #total ofdm symbol period duration\n",
    "T_prefix = T_sym/4 #adding cyclic prefix to OFDM\n",
    "data_rate_bpbs = bits_per_carrier * Ncarriers/(T_sym + T_prefix) #No FEC applied\n",
    "# data_rate_bpbs = bits_per_carrier * 3/4 *Ncarriers/(T_sym + T_prefix) #No FEC applied\n",
    "# 3/4 FEC above. For every 3 bits, we put 4 into the modulator\n",
    "\n",
    "f_carriers = np.linspace(0,B_w,Ncarriers) #list of carriers\n",
    "\n",
    "print(\"SPI clock rate:\")\n",
    "print(qt(T_spi,'s'))\n",
    "print(\"ZOH sampling period:\")\n",
    "print(qt(T_s,'s'))\n",
    "print(\"ZOH sampling frequency:\")\n",
    "print(qt(F_s,'Hz'))\n",
    "print(\"OFDM symbol period:\")\n",
    "print(qt(T_sym,'s'))\n",
    "print(\"Number of carriers:\")\n",
    "print(Ncarriers)\n",
    "print(\"Nyquist frequency:\")\n",
    "print(qt(F_s/2,'Hz'))\n",
    "print(\"Selected OFDM total bandwidth:\")\n",
    "print(qt(B_w,'Hz'))\n",
    "print(\"Bandwidth of each carrier:\")\n",
    "print(qt(B_w_carrier,'Hz'))\n",
    "print(\"Bits per Carrier:\")\n",
    "print(bits_per_carrier)\n",
    "print(\"Theoretical Data-rate:\")\n",
    "print(qt(data_rate_bpbs,'bps'))\n",
    "print(\"Carrier frequencies:\")\n",
    "print(f_carriers.tolist())\n",
    "\n"
   ]
  },
  {
   "attachments": {},
   "cell_type": "markdown",
   "metadata": {},
   "source": [
    "* To lear more about how the frequency components interact with the time-domain signal performed by the IFFT algorithm, [watch this video of Prof. Iain](https://youtu.be/knjeXo3VZvc)"
   ]
  },
  {
   "attachments": {},
   "cell_type": "markdown",
   "metadata": {},
   "source": [
    "## Steps in implementing OFDM"
   ]
  },
  {
   "attachments": {},
   "cell_type": "markdown",
   "metadata": {},
   "source": [
    "The greatest challenge in this endeavour of implementing an online OFDM transmitter in a MCU is to correctly follow the block diagram of the system, and built it digitally on the transmitter. Thus, above I show some steps that need to be taken to implement the transmitter.\n",
    "\n",
    "(1) The frequency components are drawn from a lookup table with the complex constelation points that would go to the subcarriers.\n",
    "* This would imply saving in the memory a look up table on the constelation parameters;\n",
    "* A function on the MCU to format an array of *Ncarriers* length according to the data to be transmitted;\n",
    "    - The input of the function would be a data of length char, corresponding to 8 bits, or one ASCII character;\n",
    "    - The output is a complex float array of length *Ncarriers* containing the constelation point at each index; \n",
    "\n",
    "(2) The carrier frequency vector is formatted. Each carrier \"is carrying\" its corresponding symbol. The length of the vector equals Ncarriers;\n",
    "\n",
    "(3) To this vector, an IFFT/IDFT algorithm is applied, transforming into a sequence of a complex vector of length Ncarriers;\n",
    "* An FFT algorithm is stored in the memory, along with its corresponding look up tables;\n",
    "* The output is a complex vector, thus 2 float vectors, of length *Ncarriers*;\n",
    "\n",
    "(4) Pulse shapping is applied to both real and imaginary parts, by applying a convolution algorithm to a digital filter for pulse shaping. This filter must be design as a FIR or IIR filter, taking into account the sampling frequency of the D/A converter a; the end of the process;\n",
    "* Several ways to implement this part:\n",
    "    - 1: Through a convolution algorithm (e.g. sliding tape method) and a look up table of the filter impulse response;\n",
    "    - 2: FFT of the pulse function (look up table), then multiply to the carrier frequency of step (2) (**sounds easiest**);\n",
    "    - 3: FIR or IIR filter technique with the time-domain samples created in step (3);\n",
    "\n",
    "(5) Both real and imaginary parts, now convolved with the pulse shaping filter, are multiplied by a carrier wave signal. The real part is modulated by the cos component at the carrier frequency, while the imaginary part is multiplied by the sin component;\n",
    "* Simple multiplication algorithm of length *Ncarriers* array with sine and cosine tables of length *Ncarriers* stored in the memory (look up table);\n",
    "\n",
    "(6) Finally, the two vectors are summed, and the **resulting signal is ready to be send to the D/A converter** process for transmittion.\n",
    "                                                                                               "
   ]
  },
  {
   "attachments": {},
   "cell_type": "markdown",
   "metadata": {},
   "source": [
    "## Further References\n",
    "\n",
    "[Prof. Iain Youtube Playlist on OFDM](https://www.youtube.com/watch?v=F6B4Kyj2rLw&list=PLx7-Q20A1VYIvtMUWX3yd_sQGbQx1qPGP)"
   ]
  }
 ],
 "metadata": {
  "kernelspec": {
   "display_name": "Python 3",
   "language": "python",
   "name": "python3"
  },
  "language_info": {
   "codemirror_mode": {
    "name": "ipython",
    "version": 3
   },
   "file_extension": ".py",
   "mimetype": "text/x-python",
   "name": "python",
   "nbconvert_exporter": "python",
   "pygments_lexer": "ipython3",
   "version": "3.9.7"
  },
  "orig_nbformat": 4,
  "vscode": {
   "interpreter": {
    "hash": "c347c8f9a7ef94e4c9e03b4513be7835ed18f45b99a2a817fb579f408b867b16"
   }
  }
 },
 "nbformat": 4,
 "nbformat_minor": 2
}
