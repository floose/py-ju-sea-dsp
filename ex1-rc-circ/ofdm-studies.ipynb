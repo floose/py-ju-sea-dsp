{
 "cells": [
  {
   "cell_type": "code",
   "execution_count": null,
   "metadata": {},
   "outputs": [],
   "source": [
    "import matplotlib.pyplot as plt #for plotting\n",
    "from matplotlib.ticker import EngFormatter #Formater of Engineering notation string\n",
    "import matplotlib.ticker as mtick  #To draw vertical lines to plots\n",
    "import numpy as np #numpy\n",
    "from quantiphy import Quantity #to format numbers \n",
    "import mpld3 #interactive plots\n",
    "#To add the toolbar to plots"
   ]
  },
  {
   "attachments": {},
   "cell_type": "markdown",
   "metadata": {},
   "source": [
    "## Introduction"
   ]
  },
  {
   "attachments": {},
   "cell_type": "markdown",
   "metadata": {},
   "source": [
    "* This notebook aims to exercise the block diagram of the OFDM technique for a given number of carriers to be transmitted over a channel;\n",
    "* Initially, the modulation chosen will be BPSK for each carrier. In the future, QAM will also be applied;\n",
    "* The application will map and input char word and will codify it into OFDM in terms of ASCII."
   ]
  },
  {
   "attachments": {},
   "cell_type": "markdown",
   "metadata": {},
   "source": [
    "## First OFDM Requirements"
   ]
  },
  {
   "attachments": {},
   "cell_type": "markdown",
   "metadata": {},
   "source": [
    "* One important point is that the number of carriers define the length of the OFDM symbol;"
   ]
  },
  {
   "cell_type": "code",
   "execution_count": null,
   "metadata": {},
   "outputs": [],
   "source": [
    "ncarr = 8 #defines the number of carriers to be used\n",
    "numSymbols = 8 #number of OFDM symbols\n"
   ]
  },
  {
   "cell_type": "code",
   "execution_count": null,
   "metadata": {},
   "outputs": [],
   "source": []
  }
 ],
 "metadata": {
  "kernelspec": {
   "display_name": "base",
   "language": "python",
   "name": "python3"
  },
  "language_info": {
   "name": "python",
   "version": "3.9.13 (main, Aug 25 2022, 23:51:50) [MSC v.1916 64 bit (AMD64)]"
  },
  "orig_nbformat": 4,
  "vscode": {
   "interpreter": {
    "hash": "ce8b5e658b2eede209b31591b9f0d4f1ed334d79e0c4190ad78d2af0dd810241"
   }
  }
 },
 "nbformat": 4,
 "nbformat_minor": 2
}
