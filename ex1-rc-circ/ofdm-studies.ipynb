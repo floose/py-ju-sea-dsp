{
 "cells": [
  {
   "cell_type": "code",
   "execution_count": null,
   "metadata": {},
   "outputs": [],
   "source": [
    "import matplotlib.pyplot as plt #for plotting\n",
    "from matplotlib.ticker import EngFormatter #Formater of Engineering notation string\n",
    "import matplotlib.ticker as mtick  #To draw vertical lines to plots\n",
    "import numpy as np #numpy\n",
    "from quantiphy import Quantity #to format numbers \n",
    "import mpld3 #interactive plots\n",
    "#To add the toolbar to plots"
   ]
  },
  {
   "attachments": {},
   "cell_type": "markdown",
   "metadata": {},
   "source": [
    "## Introduction"
   ]
  },
  {
   "attachments": {},
   "cell_type": "markdown",
   "metadata": {},
   "source": [
    "* This notebook aims to exercise the block diagram of the OFDM technique for a given number of carriers to be transmitted over a channel;\n",
    "* Initially, the modulation chosen will be BPSK for each carrier. In the future, QAM will also be applied;\n",
    "* The application will map and input char word and will codify it into OFDM in terms of ASCII."
   ]
  },
  {
   "attachments": {},
   "cell_type": "markdown",
   "metadata": {},
   "source": [
    "## System setup"
   ]
  },
  {
   "attachments": {},
   "cell_type": "markdown",
   "metadata": {},
   "source": [
    "The block diagram below describes the way one apply OFDM into a communication system:"
   ]
  },
  {
   "attachments": {},
   "cell_type": "markdown",
   "metadata": {},
   "source": [
    "<img src=\"OFDM_block_diagram.png\" width=\"400\" height=\"300\" />"
   ]
  },
  {
   "attachments": {},
   "cell_type": "markdown",
   "metadata": {},
   "source": [
    "### Description\n",
    "\n",
    "From the input data up to the D/A converter, everything is computed digitally in the transmitter, by using a digital signal processor or a microcontroller unit. Data is formatted into an OFDM symbol through an IFFT algorithm. The process is described as follows. \n",
    "\n",
    "The modulator selects the symbols out of a constellation to represent the input data. A Serial to Parallell converter delivers the symbols into an IFFT algorithm, that transforms the amplitudes and phases of the carriers into a time-domain signal. The signal is then formatted with a well-defined pulse (e.g., a raised-cosine pulse) that is bandlimited.\n"
   ]
  },
  {
   "attachments": {},
   "cell_type": "markdown",
   "metadata": {},
   "source": [
    "### A note on the D/A Converter"
   ]
  },
  {
   "attachments": {},
   "cell_type": "markdown",
   "metadata": {},
   "source": [
    "It is worth expanding what happens during the D/A conversion. A zero-order-hold (ZOH) D/A converter may be used to perform the conversion. If one is using a D/A that receives data through SPI communication, this would imply into a making the D/A having a higher sampling frequency that can be supported by the OFDM system.\n",
    "\n",
    "**This if it is assumed that the D/A's settling time is lower than the SPI's delay time. But this is a topic for another notebook.**\n",
    "\n",
    "For example, for a 10 bit ZOH D/A converter using SPI to communicate to the MCU responsibile for the OFDM, each symbol would require 10 SPI clock cycles to feed the entire bit word of one single sample of the OFDM signal. \n",
    "\n",
    "Thus,\n",
    "\n",
    "$ T_{s} = 10T_{\\mathrm{SPI}}$,\n",
    "\n",
    "in which $T_{s}$ is the effective sampling frequency seen by the OFDM system. \n",
    "\n",
    "In other words, $T_s$ would be the sampling period of a weighted ZOH output signal, such as the one seen below:"
   ]
  },
  {
   "attachments": {},
   "cell_type": "markdown",
   "metadata": {},
   "source": [
    "<img src=\"ZOH.png\" width=\"400\" height=\"300\" />"
   ]
  },
  {
   "attachments": {},
   "cell_type": "markdown",
   "metadata": {},
   "source": [
    "In conclusion, each change of the ZOH amplitude signal in red above represents a 10 bit word sent by the SPI bus. And $T_s$ represents the update time of the ZOH (its sampling frequency)."
   ]
  },
  {
   "attachments": {},
   "cell_type": "markdown",
   "metadata": {},
   "source": [
    "\n",
    "Moreover, for a SPI bus of $1\\;\\mathrm{\\mu s}$ clock period, it would require **10 $\\mathrm{\\mu s}$ to feed the bitstream corresponding to one digital sample of the OFDM symbol**. For a 32 carriers OFDM, this would imply into a time-domain signal of 32 samples, and a 32 length FFT algorithm. **Meaning, 32 ZOH period to format one single OFDM pulse.**\n",
    "\n",
    "Therefore, the OFDM symbol period would be of\n",
    "\n",
    "$T_{symbol} = 32T_{s} = 32 \\times 10\\;\\mathrm{\\mu s} = 320\\;\\mathrm{\\mu s}$\n",
    "\n",
    "Furthermore, since the effective sampling period of the system is $10\\;\\mathrm{\\mu s}$ (10 SPI periods), Nyquist tells us that the maximum allowable frequency we can reproduce would be $ 1/(2 \\times T_s)$, or 500 kHz in our case, with a 10 bit resolution.\n",
    "\n",
    "Hence, the last reliable carrier of a bandbase OFDM system would be 500 kHz, with the minimum recovery resolution."
   ]
  },
  {
   "attachments": {},
   "cell_type": "markdown",
   "metadata": {},
   "source": [
    "### Communication parameters\n",
    "\n",
    "Based on the arguments provided below, our OFDM scenario is aligned with the following parameters:\n",
    "\n",
    "* SPI Bus clock of 1 MHz, or 1 $T_{\\mathrm{SPI}} = 1\\;\\mathrm{\\mu s}$;\n",
    "\n",
    "* ZOH resolution of 10 bits; \n",
    "\n",
    "* ZOH Sampling period of $ T_{s} = 10T_{\\mathrm{SPI}}$;\n",
    "\n",
    "* Symbol period of 32 samples (32 carriers);\n",
    "\n",
    "* Maximum allowable carrier to be recovered: 500 kHz;\n",
    "\n",
    "* Desired modulation scheme of each carrier: Binary phase shift keying (BPSK);"
   ]
  },
  {
   "attachments": {},
   "cell_type": "markdown",
   "metadata": {},
   "source": [
    "## First OFDM Requirements"
   ]
  },
  {
   "attachments": {},
   "cell_type": "markdown",
   "metadata": {},
   "source": [
    "* One important point is that the number of carriers define the length of the OFDM symbol;"
   ]
  },
  {
   "cell_type": "code",
   "execution_count": null,
   "metadata": {},
   "outputs": [],
   "source": [
    "ncarr = 8 #defines the number of carriers to be used\n",
    "numSymbols = 2 #number of OFDM symbols\n",
    "numPoints = ncarr*numSymbols #Total number of points \n",
    "\n"
   ]
  },
  {
   "cell_type": "code",
   "execution_count": null,
   "metadata": {},
   "outputs": [],
   "source": [
    "teste = np.array([1,-1,1,1,-1,-1,-1,-1])\n",
    "x = np.fft.ifft(teste)\n",
    "print(x)"
   ]
  },
  {
   "cell_type": "markdown",
   "metadata": {},
   "source": []
  },
  {
   "cell_type": "code",
   "execution_count": null,
   "metadata": {},
   "outputs": [],
   "source": []
  }
 ],
 "metadata": {
  "kernelspec": {
   "display_name": "base",
   "language": "python",
   "name": "python3"
  },
  "language_info": {
   "codemirror_mode": {
    "name": "ipython",
    "version": 3
   },
   "file_extension": ".py",
   "mimetype": "text/x-python",
   "name": "python",
   "nbconvert_exporter": "python",
   "pygments_lexer": "ipython3",
   "version": "3.9.13 (main, Aug 25 2022, 23:51:50) [MSC v.1916 64 bit (AMD64)]"
  },
  "orig_nbformat": 4,
  "vscode": {
   "interpreter": {
    "hash": "ce8b5e658b2eede209b31591b9f0d4f1ed334d79e0c4190ad78d2af0dd810241"
   }
  }
 },
 "nbformat": 4,
 "nbformat_minor": 2
}
