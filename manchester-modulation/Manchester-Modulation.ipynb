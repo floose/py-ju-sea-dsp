{
 "cells": [
  {
   "cell_type": "code",
   "execution_count": 1,
   "metadata": {},
   "outputs": [],
   "source": [
    "import matplotlib.pyplot as plt #for plotting\n",
    "from matplotlib.ticker import EngFormatter #Formater of Engineering notation string\n",
    "import matplotlib.ticker as mtick  #To draw vertical lines to plots\n",
    "import numpy as np #numpy\n",
    "from quantiphy import Quantity #to format numbers \n",
    "import mpld3 #interactive plots\n",
    "#To add the toolbar to plots\n"
   ]
  },
  {
   "attachments": {},
   "cell_type": "markdown",
   "metadata": {},
   "source": [
    "## Introduction"
   ]
  },
  {
   "attachments": {},
   "cell_type": "markdown",
   "metadata": {},
   "source": [
    "* The goal of this notebook is to provide the mathematical foundations to perform the modulation of two line codes: On-off keyingm Manchester and FSK;\n",
    "* Later, we will use this notebook to generate an analog waveform along with LT Spice simulations of our circuit;\n",
    "* We will also explore the possible issues found in dealing with the modulation of a bit stream data directly sent by a microcontroller using UART;\n",
    "* The analog pulses must be processed, filtered and adapted to an analog modulator.\n",
    "\n",
    "\n",
    "**Brief description** \n",
    "\n",
    "In a given project, we have access to a binary analog digital bit stream that transmits ASCII characters. We need to modulate and adapt this bit stream into a certain modulation scheme. The first trial would be a simple modulation displacement of the bistream data over a carrier signal adapted to our system. "
   ]
  },
  {
   "attachments": {},
   "cell_type": "markdown",
   "metadata": {},
   "source": [
    "## Shape of Input Data"
   ]
  },
  {
   "attachments": {},
   "cell_type": "markdown",
   "metadata": {},
   "source": [
    "The input signal of our system is a binary signal transmitting ASCII characters at 1 Mbps. It comes from an UART module, so it transmitting rectangular pulses in the form of the code below."
   ]
  },
  {
   "cell_type": "code",
   "execution_count": 7,
   "metadata": {},
   "outputs": [
    {
     "data": {
      "text/html": [
       "<div>\n",
       "<style scoped>\n",
       "    .dataframe tbody tr th:only-of-type {\n",
       "        vertical-align: middle;\n",
       "    }\n",
       "\n",
       "    .dataframe tbody tr th {\n",
       "        vertical-align: top;\n",
       "    }\n",
       "\n",
       "    .dataframe thead th {\n",
       "        text-align: right;\n",
       "    }\n",
       "</style>\n",
       "<table border=\"1\" class=\"dataframe\">\n",
       "  <thead>\n",
       "    <tr style=\"text-align: right;\">\n",
       "      <th></th>\n",
       "      <th>ON-OFF</th>\n",
       "    </tr>\n",
       "  </thead>\n",
       "  <tbody>\n",
       "    <tr>\n",
       "      <th>0</th>\n",
       "      <td>1.0</td>\n",
       "    </tr>\n",
       "    <tr>\n",
       "      <th>1</th>\n",
       "      <td>0.0</td>\n",
       "    </tr>\n",
       "    <tr>\n",
       "      <th>2</th>\n",
       "      <td>1.0</td>\n",
       "    </tr>\n",
       "    <tr>\n",
       "      <th>3</th>\n",
       "      <td>0.0</td>\n",
       "    </tr>\n",
       "    <tr>\n",
       "      <th>4</th>\n",
       "      <td>1.0</td>\n",
       "    </tr>\n",
       "    <tr>\n",
       "      <th>5</th>\n",
       "      <td>0.0</td>\n",
       "    </tr>\n",
       "    <tr>\n",
       "      <th>6</th>\n",
       "      <td>1.0</td>\n",
       "    </tr>\n",
       "    <tr>\n",
       "      <th>7</th>\n",
       "      <td>0.0</td>\n",
       "    </tr>\n",
       "    <tr>\n",
       "      <th>8</th>\n",
       "      <td>1.0</td>\n",
       "    </tr>\n",
       "    <tr>\n",
       "      <th>9</th>\n",
       "      <td>0.0</td>\n",
       "    </tr>\n",
       "  </tbody>\n",
       "</table>\n",
       "</div>"
      ],
      "text/plain": [
       "   ON-OFF\n",
       "0     1.0\n",
       "1     0.0\n",
       "2     1.0\n",
       "3     0.0\n",
       "4     1.0\n",
       "5     0.0\n",
       "6     1.0\n",
       "7     0.0\n",
       "8     1.0\n",
       "9     0.0"
      ]
     },
     "execution_count": 7,
     "metadata": {},
     "output_type": "execute_result"
    }
   ],
   "source": [
    "import pandas as pd\n",
    "#Generate random bit sequence\n",
    "numBits = 100 #number of bits desired to transmit\n",
    "noise = np.random.normal(0,1,numBits) #generates random noise\n",
    "#Generating ON OFF Bit-stream\n",
    "df = pd.DataFrame(((np.sign(noise))+1)/2,columns=['ON-OFF']) #assigns a pandas dataframe of boolean type\n",
    "bitStream = df[['ON-OFF']].to_numpy() #gets the array data\n",
    "df.head(10) #displays the dataframe for visualization\n"
   ]
  }
 ],
 "metadata": {
  "kernelspec": {
   "display_name": "base",
   "language": "python",
   "name": "python3"
  },
  "language_info": {
   "codemirror_mode": {
    "name": "ipython",
    "version": 3
   },
   "file_extension": ".py",
   "mimetype": "text/x-python",
   "name": "python",
   "nbconvert_exporter": "python",
   "pygments_lexer": "ipython3",
   "version": "3.9.13"
  },
  "orig_nbformat": 4,
  "vscode": {
   "interpreter": {
    "hash": "ce8b5e658b2eede209b31591b9f0d4f1ed334d79e0c4190ad78d2af0dd810241"
   }
  }
 },
 "nbformat": 4,
 "nbformat_minor": 2
}
